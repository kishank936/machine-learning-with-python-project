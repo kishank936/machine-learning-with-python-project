{
    "cells": [
        {
            "metadata": {},
            "cell_type": "code",
            "source": "1+2",
            "execution_count": 1,
            "outputs": [
                {
                    "output_type": "display_data",
                    "data": {
                        "text/plain": "[1] 3",
                        "text/latex": "3",
                        "text/markdown": "3",
                        "text/html": "3"
                    },
                    "metadata": {}
                }
            ]
        },
        {
            "metadata": {},
            "cell_type": "code",
            "source": "",
            "execution_count": null,
            "outputs": []
        }
    ],
    "metadata": {
        "kernelspec": {
            "name": "r",
            "display_name": "R 3.6 with Spark",
            "language": "R"
        },
        "language_info": {
            "mimetype": "text/x-r-source",
            "name": "R",
            "pygments_lexer": "r",
            "version": "3.6.0",
            "file_extension": ".r",
            "codemirror_mode": "r"
        }
    },
    "nbformat": 4,
    "nbformat_minor": 1
}